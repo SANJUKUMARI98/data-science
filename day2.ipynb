{
 "cells": [
  {
   "cell_type": "code",
   "execution_count": 1,
   "id": "f20e0621-b9d7-42d3-97f8-0a2ce61eb483",
   "metadata": {},
   "outputs": [],
   "source": [
    "a=10"
   ]
  },
  {
   "cell_type": "code",
   "execution_count": 2,
   "id": "3f1f7a43-faea-45be-b507-f655a671be10",
   "metadata": {},
   "outputs": [],
   "source": [
    "a='c'"
   ]
  },
  {
   "cell_type": "code",
   "execution_count": 3,
   "id": "809a282b-484b-41ec-902b-9ddcc900c87b",
   "metadata": {},
   "outputs": [
    {
     "data": {
      "text/plain": [
       "str"
      ]
     },
     "execution_count": 3,
     "metadata": {},
     "output_type": "execute_result"
    }
   ],
   "source": [
    "type(a)"
   ]
  },
  {
   "cell_type": "code",
   "execution_count": 4,
   "id": "b8252704-4f39-40af-ad99-b77328b8f59f",
   "metadata": {},
   "outputs": [
    {
     "data": {
      "text/plain": [
       "0"
      ]
     },
     "execution_count": 4,
     "metadata": {},
     "output_type": "execute_result"
    }
   ],
   "source": [
    "int()"
   ]
  },
  {
   "cell_type": "code",
   "execution_count": 5,
   "id": "6bdbb334-5ba1-42a2-9ea1-d1b56819a39e",
   "metadata": {},
   "outputs": [
    {
     "data": {
      "text/plain": [
       "123"
      ]
     },
     "execution_count": 5,
     "metadata": {},
     "output_type": "execute_result"
    }
   ],
   "source": [
    "int(123)"
   ]
  },
  {
   "cell_type": "code",
   "execution_count": 6,
   "id": "dca6c353-33a9-4425-a731-02684ecc44fc",
   "metadata": {},
   "outputs": [
    {
     "ename": "NameError",
     "evalue": "name 'abg' is not defined",
     "output_type": "error",
     "traceback": [
      "\u001b[0;31m---------------------------------------------------------------------------\u001b[0m",
      "\u001b[0;31mNameError\u001b[0m                                 Traceback (most recent call last)",
      "Cell \u001b[0;32mIn[6], line 1\u001b[0m\n\u001b[0;32m----> 1\u001b[0m \u001b[38;5;28mint\u001b[39m(\u001b[43mabg\u001b[49m)\n",
      "\u001b[0;31mNameError\u001b[0m: name 'abg' is not defined"
     ]
    }
   ],
   "source": [
    "int('abg')"
   ]
  },
  {
   "cell_type": "code",
   "execution_count": 8,
   "id": "389d0458-1eea-458a-97c6-f9610baca336",
   "metadata": {},
   "outputs": [
    {
     "name": "stdout",
     "output_type": "stream",
     "text": [
      "helo world\n"
     ]
    }
   ],
   "source": [
    "print(\"helo world\")"
   ]
  },
  {
   "cell_type": "code",
   "execution_count": 9,
   "id": "afec3114-807b-4593-a8d6-58b33b513381",
   "metadata": {},
   "outputs": [
    {
     "name": "stdout",
     "output_type": "stream",
     "text": [
      "123\n"
     ]
    }
   ],
   "source": [
    "print(123)"
   ]
  },
  {
   "cell_type": "code",
   "execution_count": 10,
   "id": "02249052-d43a-4b09-aefa-21a161236ccb",
   "metadata": {},
   "outputs": [
    {
     "name": "stdout",
     "output_type": "stream",
     "text": [
      "my age is: 32\n"
     ]
    }
   ],
   "source": [
    "age=32\n",
    "print(\"my age is:\",age)"
   ]
  },
  {
   "cell_type": "code",
   "execution_count": 12,
   "id": "72662efa-7592-4593-920d-444470c5a0f6",
   "metadata": {},
   "outputs": [
    {
     "name": "stdout",
     "output_type": "stream",
     "text": [
      "my age is: 32\n"
     ]
    }
   ],
   "source": [
    "## f string\n",
    "print(f\"my age is: {age}\")"
   ]
  },
  {
   "cell_type": "code",
   "execution_count": 15,
   "id": "241aa3d1-2c57-4d51-b908-3259b4b2d99e",
   "metadata": {},
   "outputs": [
    {
     "name": "stdout",
     "output_type": "stream",
     "text": [
      "My name is Krish and age is 32\n"
     ]
    }
   ],
   "source": [
    "## format()\n",
    "name=\"Krish\"\n",
    "age=32\n",
    "print(\"My name is {} and age is {}\".format(name,age))"
   ]
  },
  {
   "cell_type": "code",
   "execution_count": 16,
   "id": "f5065381-6279-457a-9506-a87a9af0cfb5",
   "metadata": {},
   "outputs": [
    {
     "name": "stdout",
     "output_type": "stream",
     "text": [
      "My name is 32 and age is Krish\n"
     ]
    }
   ],
   "source": [
    "\n",
    "print(\"My name is {} and age is {}\".format(age,name))"
   ]
  },
  {
   "cell_type": "code",
   "execution_count": null,
   "id": "2b8a7f8e-0b56-48f0-b3fe-84ebc09a9c8b",
   "metadata": {},
   "outputs": [],
   "source": [
    "## placeholder\n",
    "print(\"My name is {firstname} and age is {firstage}\".format(firstage=age,firstnmae=name))"
   ]
  },
  {
   "cell_type": "markdown",
   "id": "2799dbf4-57a1-41b8-8483-fc0e152bc22b",
   "metadata": {},
   "source": [
    "## Control flow"
   ]
  },
  {
   "cell_type": "code",
   "execution_count": 18,
   "id": "1228edb5-7be8-4168-998f-f64a9a447bf7",
   "metadata": {},
   "outputs": [
    {
     "name": "stdout",
     "output_type": "stream",
     "text": [
      "you are eligible to vote\n"
     ]
    }
   ],
   "source": [
    "## if statements\n",
    "age=18\n",
    "if age>=18:\n",
    "    print(\"you are eligible to vote\")"
   ]
  },
  {
   "cell_type": "code",
   "execution_count": 19,
   "id": "4e5f8dd8-6fff-46ed-b026-fd2205eda164",
   "metadata": {},
   "outputs": [
    {
     "name": "stdout",
     "output_type": "stream",
     "text": [
      "you are not eligible to vote\n"
     ]
    }
   ],
   "source": [
    "## if statements\n",
    "age=18\n",
    "if age<=18:\n",
    "    print(\"you are not eligible to vote\")"
   ]
  },
  {
   "cell_type": "code",
   "execution_count": 20,
   "id": "92ab54ec-b7e4-4920-a0a2-3a9a942399c5",
   "metadata": {},
   "outputs": [
    {
     "data": {
      "text/plain": [
       "True"
      ]
     },
     "execution_count": 20,
     "metadata": {},
     "output_type": "execute_result"
    }
   ],
   "source": [
    "17<18"
   ]
  },
  {
   "cell_type": "code",
   "execution_count": 21,
   "id": "d9aa1142-0b30-47f8-a298-75d8ed5eccaf",
   "metadata": {},
   "outputs": [
    {
     "data": {
      "text/plain": [
       "False"
      ]
     },
     "execution_count": 21,
     "metadata": {},
     "output_type": "execute_result"
    }
   ],
   "source": [
    "18<18"
   ]
  },
  {
   "cell_type": "code",
   "execution_count": null,
   "id": "1dd1f7cf-e41c-4a0d-94cf-175f3b914ba9",
   "metadata": {},
   "outputs": [],
   "source": [
    "18<=18"
   ]
  },
  {
   "cell_type": "code",
   "execution_count": null,
   "id": "3332f206-7b15-4f4d-87f1-cbb0221b0da1",
   "metadata": {},
   "outputs": [],
   "source": [
    "input()"
   ]
  },
  {
   "cell_type": "code",
   "execution_count": null,
   "id": "5e2bf2c6-c53d-461f-ace1-99c8e55c492a",
   "metadata": {},
   "outputs": [],
   "source": [
    "## Task1\n",
    "## take a input of age\n",
    "## check whether age>=18 and age<=32\n",
    "## display a message you are young blood"
   ]
  },
  {
   "cell_type": "code",
   "execution_count": null,
   "id": "341bdce4-d452-4e64-8846-e3f624b89b35",
   "metadata": {},
   "outputs": [],
   "source": [
    "age= int(input(\"Enter the age\"))\n",
    "if age>=18 and age<=32:\n",
    "   print(\" You are young  blood\")"
   ]
  },
  {
   "cell_type": "code",
   "execution_count": null,
   "id": "f556243e-fd68-4a0d-8d7f-3d131fcebec3",
   "metadata": {},
   "outputs": [],
   "source": [
    "product_price=int(input(\"Enter the price\"))\n",
    "if pro"
   ]
  },
  {
   "cell_type": "code",
   "execution_count": null,
   "id": "200f43c3-ab5c-406b-a088-10f336195e10",
   "metadata": {},
   "outputs": [],
   "source": []
  },
  {
   "cell_type": "code",
   "execution_count": null,
   "id": "2b6f0aa7-03da-4ddd-9011-764afc2433d5",
   "metadata": {},
   "outputs": [],
   "source": []
  },
  {
   "cell_type": "code",
   "execution_count": null,
   "id": "b3563660-7fc2-4e71-8635-7a7cd0e9abd8",
   "metadata": {},
   "outputs": [],
   "source": []
  }
 ],
 "metadata": {
  "kernelspec": {
   "display_name": "Python 3 (ipykernel)",
   "language": "python",
   "name": "python3"
  },
  "language_info": {
   "codemirror_mode": {
    "name": "ipython",
    "version": 3
   },
   "file_extension": ".py",
   "mimetype": "text/x-python",
   "name": "python",
   "nbconvert_exporter": "python",
   "pygments_lexer": "ipython3",
   "version": "3.10.8"
  }
 },
 "nbformat": 4,
 "nbformat_minor": 5
}
